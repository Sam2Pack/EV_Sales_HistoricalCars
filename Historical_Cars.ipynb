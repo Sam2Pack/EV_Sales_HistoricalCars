{
  "nbformat": 4,
  "nbformat_minor": 0,
  "metadata": {
    "colab": {
      "provenance": []
    },
    "kernelspec": {
      "name": "python3",
      "display_name": "Python 3"
    },
    "language_info": {
      "name": "python"
    }
  },
  "cells": [
    {
      "cell_type": "code",
      "execution_count": 2,
      "metadata": {
        "colab": {
          "base_uri": "https://localhost:8080/"
        },
        "id": "VJzfWA5jnilz",
        "outputId": "98450a6f-1e02-4478-a28c-db19f696307f"
      },
      "outputs": [
        {
          "output_type": "stream",
          "name": "stdout",
          "text": [
            "<class 'pandas.core.frame.DataFrame'>\n"
          ]
        }
      ],
      "source": [
        "import numpy as np\n",
        "import pandas as pd\n",
        "import matplotlib.pyplot as plt\n",
        "import seaborn as sns\n",
        "\n",
        "\n",
        "df=pd.read_csv(\"IEA-EV-dataEV salesHistoricalCars.csv\")\n",
        "print(type(df))"
      ]
    },
    {
      "cell_type": "code",
      "source": [
        "#Data preprocessing\n",
        "print(df.isnull().sum())\n",
        "print(df.duplicated().any())\n",
        "print(type(df))\n",
        "#Conclusion: No missing values present in the dataset we can proceed with the data analysis and data prediction"
      ],
      "metadata": {
        "colab": {
          "base_uri": "https://localhost:8080/"
        },
        "id": "Gbdx_RAPn_V7",
        "outputId": "c9f2e64f-6ca9-48a3-e2ff-99d3dba9bc59"
      },
      "execution_count": 3,
      "outputs": [
        {
          "output_type": "stream",
          "name": "stdout",
          "text": [
            "region        0\n",
            "category      0\n",
            "parameter     0\n",
            "mode          0\n",
            "powertrain    0\n",
            "year          0\n",
            "unit          0\n",
            "value         0\n",
            "dtype: int64\n",
            "False\n",
            "<class 'pandas.core.frame.DataFrame'>\n"
          ]
        }
      ]
    },
    {
      "cell_type": "code",
      "source": [
        "print(df.dtypes)"
      ],
      "metadata": {
        "colab": {
          "base_uri": "https://localhost:8080/"
        },
        "id": "coZ6x_TRqi69",
        "outputId": "130d016b-9b59-4ed2-a5e7-dae6bba93ecd"
      },
      "execution_count": 4,
      "outputs": [
        {
          "output_type": "stream",
          "name": "stdout",
          "text": [
            "region         object\n",
            "category       object\n",
            "parameter      object\n",
            "mode           object\n",
            "powertrain     object\n",
            "year            int64\n",
            "unit           object\n",
            "value         float64\n",
            "dtype: object\n"
          ]
        }
      ]
    },
    {
      "cell_type": "code",
      "source": [
        "X=df[['region','category','parameter','mode','powertrain','year']]\n",
        "Y=df['value']\n",
        "\n",
        "from sklearn.compose import ColumnTransformer\n",
        "from sklearn.preprocessing import OneHotEncoder\n",
        "ct=ColumnTransformer(transformers=[('encoder',OneHotEncoder(),[0,1,2,3,4])],remainder='passthrough')\n",
        "X=ct.fit_transform(X)\n",
        "X=X.toarray()\n",
        "print(X)\n",
        "\n",
        "from sklearn.model_selection import train_test_split\n",
        "Xtrain,Xtest,Ytrain,Ytest=train_test_split(X,Y,test_size=0.2,random_state=42)\n",
        "print(Xtrain)\n"
      ],
      "metadata": {
        "colab": {
          "base_uri": "https://localhost:8080/"
        },
        "id": "5iaQmMnsoZfw",
        "outputId": "077c3f90-7753-4a1c-deb7-64c349ae81da"
      },
      "execution_count": 5,
      "outputs": [
        {
          "output_type": "stream",
          "name": "stdout",
          "text": [
            "[[1.000e+00 0.000e+00 0.000e+00 ... 0.000e+00 0.000e+00 2.011e+03]\n",
            " [1.000e+00 0.000e+00 0.000e+00 ... 0.000e+00 0.000e+00 2.011e+03]\n",
            " [1.000e+00 0.000e+00 0.000e+00 ... 0.000e+00 0.000e+00 2.011e+03]\n",
            " ...\n",
            " [0.000e+00 0.000e+00 0.000e+00 ... 0.000e+00 0.000e+00 2.023e+03]\n",
            " [0.000e+00 0.000e+00 0.000e+00 ... 0.000e+00 0.000e+00 2.023e+03]\n",
            " [0.000e+00 0.000e+00 0.000e+00 ... 0.000e+00 0.000e+00 2.023e+03]]\n",
            "[[0.000e+00 0.000e+00 0.000e+00 ... 0.000e+00 0.000e+00 2.023e+03]\n",
            " [0.000e+00 0.000e+00 0.000e+00 ... 0.000e+00 0.000e+00 2.017e+03]\n",
            " [0.000e+00 0.000e+00 0.000e+00 ... 0.000e+00 1.000e+00 2.015e+03]\n",
            " ...\n",
            " [0.000e+00 0.000e+00 0.000e+00 ... 0.000e+00 0.000e+00 2.020e+03]\n",
            " [0.000e+00 0.000e+00 0.000e+00 ... 0.000e+00 0.000e+00 2.011e+03]\n",
            " [0.000e+00 0.000e+00 0.000e+00 ... 0.000e+00 0.000e+00 2.017e+03]]\n"
          ]
        }
      ]
    },
    {
      "cell_type": "code",
      "source": [
        "from sklearn.preprocessing import StandardScaler\n",
        "sc=StandardScaler()\n",
        "Xtrain=sc.fit_transform(Xtrain)\n",
        "Xtest=sc.transform(Xtest)\n",
        "print(Xtrain)\n",
        "\n"
      ],
      "metadata": {
        "colab": {
          "base_uri": "https://localhost:8080/"
        },
        "id": "Xims-y7Izjgu",
        "outputId": "2f22532a-49fd-4559-a621-bf3a939487ee"
      },
      "execution_count": 6,
      "outputs": [
        {
          "output_type": "stream",
          "name": "stdout",
          "text": [
            "[[-0.14552138 -0.15909803 -0.15690944 ... -0.38883626 -0.56087649\n",
            "   1.48158343]\n",
            " [-0.14552138 -0.15909803 -0.15690944 ... -0.38883626 -0.56087649\n",
            "  -0.10023012]\n",
            " [-0.14552138 -0.15909803 -0.15690944 ... -0.38883626  1.78292374\n",
            "  -0.62750131]\n",
            " ...\n",
            " [-0.14552138 -0.15909803 -0.15690944 ... -0.38883626 -0.56087649\n",
            "   0.69067666]\n",
            " [-0.14552138 -0.15909803 -0.15690944 ... -0.38883626 -0.56087649\n",
            "  -1.68204368]\n",
            " [-0.14552138 -0.15909803 -0.15690944 ... -0.38883626 -0.56087649\n",
            "  -0.10023012]]\n"
          ]
        }
      ]
    },
    {
      "cell_type": "code",
      "source": [
        "from sklearn.ensemble import RandomForestRegressor\n",
        "from sklearn.metrics import r2_score,confusion_matrix\n",
        "rg=RandomForestRegressor(n_estimators=1000,random_state=42)\n",
        "rg.fit(Xtrain,Ytrain)\n",
        "ypred=rg.predict(Xtest)\n",
        "print(r2_score(Ytest,ypred))"
      ],
      "metadata": {
        "colab": {
          "base_uri": "https://localhost:8080/"
        },
        "id": "4RWtEhHtIOc3",
        "outputId": "480dcb73-5bb1-4bed-bb0c-0a6c36c74a67"
      },
      "execution_count": 7,
      "outputs": [
        {
          "output_type": "stream",
          "name": "stdout",
          "text": [
            "0.4167408692404253\n"
          ]
        }
      ]
    },
    {
      "cell_type": "code",
      "source": [
        "from xgboost import XGBRegressor\n",
        "xgbr=XGBRegressor()\n",
        "xgbr.fit(Xtrain,Ytrain)\n",
        "ypred=xgbr.predict(Xtest)\n",
        "print(r2_score(Ytest,ypred))\n"
      ],
      "metadata": {
        "colab": {
          "base_uri": "https://localhost:8080/"
        },
        "id": "zIh5mpanQlZf",
        "outputId": "929caf12-99af-419c-a48d-4996cd6888d5"
      },
      "execution_count": 8,
      "outputs": [
        {
          "output_type": "stream",
          "name": "stdout",
          "text": [
            "0.5904710325720552\n"
          ]
        }
      ]
    }
  ]
}