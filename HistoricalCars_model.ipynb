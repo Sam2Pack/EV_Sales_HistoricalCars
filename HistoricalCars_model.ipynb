{
  "nbformat": 4,
  "nbformat_minor": 0,
  "metadata": {
    "colab": {
      "provenance": []
    },
    "kernelspec": {
      "name": "python3",
      "display_name": "Python 3"
    },
    "language_info": {
      "name": "python"
    }
  },
  "cells": [
    {
      "cell_type": "code",
      "execution_count": 18,
      "metadata": {
        "colab": {
          "base_uri": "https://localhost:8080/"
        },
        "id": "VJzfWA5jnilz",
        "outputId": "fe9dbcf6-11ca-415f-ed0a-2b8539bcbbce"
      },
      "outputs": [
        {
          "output_type": "stream",
          "name": "stdout",
          "text": [
            "<class 'pandas.core.frame.DataFrame'>\n"
          ]
        }
      ],
      "source": [
        "import numpy as np\n",
        "import pandas as pd\n",
        "import matplotlib.pyplot as plt\n",
        "import seaborn as sns\n",
        "\n",
        "\n",
        "df=pd.read_csv(\"IEA-EV-dataEV salesHistoricalCars.csv\")\n",
        "print(type(df))"
      ]
    },
    {
      "cell_type": "code",
      "source": [
        "#Data preprocessing\n",
        "print(df.isnull().sum())\n",
        "print(df.duplicated().any())\n",
        "print(type(df))\n",
        "#Conclusion: No missing values present in the dataset we can proceed with the data analysis and data prediction"
      ],
      "metadata": {
        "colab": {
          "base_uri": "https://localhost:8080/"
        },
        "id": "Gbdx_RAPn_V7",
        "outputId": "954d4a02-f745-4fce-f22a-a3391ba35850"
      },
      "execution_count": 19,
      "outputs": [
        {
          "output_type": "stream",
          "name": "stdout",
          "text": [
            "region        0\n",
            "category      0\n",
            "parameter     0\n",
            "mode          0\n",
            "powertrain    0\n",
            "year          0\n",
            "unit          0\n",
            "value         0\n",
            "dtype: int64\n",
            "False\n",
            "<class 'pandas.core.frame.DataFrame'>\n"
          ]
        }
      ]
    },
    {
      "cell_type": "code",
      "source": [
        "plt.boxplot(df['value'])\n",
        "plt.show()\n",
        "\n",
        "Q1=df['value'].quantile(0.25)\n",
        "Q3=df['value'].quantile(0.75)\n",
        "IQR=Q3-Q1\n",
        "Lower_bound=Q1-1.5*IQR\n",
        "Upper_bound=Q3+1.5*IQR\n",
        "df=df[(df['value']>=Lower_bound)&(df['value']<=Upper_bound)]\n",
        "print(df)\n",
        "plt.boxplot(df['value'])\n",
        "plt.show()"
      ],
      "metadata": {
        "colab": {
          "base_uri": "https://localhost:8080/",
          "height": 1000
        },
        "id": "1hIWE09cXDUx",
        "outputId": "6d4f193f-390f-4561-a939-07ec57d5d7da"
      },
      "execution_count": 20,
      "outputs": [
        {
          "output_type": "display_data",
          "data": {
            "text/plain": [
              "<Figure size 640x480 with 1 Axes>"
            ],
            "image/png": "[encoded data removed]"
          },
          "metadata": {}
        },
        {
          "output_type": "stream",
          "name": "stdout",
          "text": [
            "         region    category             parameter  mode powertrain  year  \\\n",
            "0     Australia  Historical              EV sales  Cars        BEV  2011   \n",
            "1     Australia  Historical        EV stock share  Cars         EV  2011   \n",
            "2     Australia  Historical        EV sales share  Cars         EV  2011   \n",
            "3     Australia  Historical              EV stock  Cars        BEV  2011   \n",
            "4     Australia  Historical              EV stock  Cars        BEV  2012   \n",
            "...         ...         ...                   ...   ...        ...   ...   \n",
            "3784      World  Historical  Oil displacement Mbd  Cars         EV  2022   \n",
            "3789      World  Historical  Oil displacement Mbd  Cars         EV  2023   \n",
            "3792      World  Historical              EV sales  Cars       FCEV  2023   \n",
            "3795      World  Historical        EV sales share  Cars         EV  2023   \n",
            "3796      World  Historical        EV stock share  Cars         EV  2023   \n",
            "\n",
            "                        unit       value  \n",
            "0                   Vehicles    49.00000  \n",
            "1                    percent     0.00039  \n",
            "2                    percent     0.00650  \n",
            "3                   Vehicles    49.00000  \n",
            "4                   Vehicles   220.00000  \n",
            "...                      ...         ...  \n",
            "3784  Milion barrels per day     0.40000  \n",
            "3789  Milion barrels per day     0.71000  \n",
            "3792                Vehicles  8900.00000  \n",
            "3795                 percent    18.00000  \n",
            "3796                 percent     3.20000  \n",
            "\n",
            "[3099 rows x 8 columns]\n"
          ]
        },
        {
          "output_type": "display_data",
          "data": {
            "text/plain": [
              "<Figure size 640x480 with 1 Axes>"
            ],
            "image/png": "[encoded data removed]"
          },
          "metadata": {}
        }
      ]
    },
    {
      "cell_type": "code",
      "source": [
        "print(df.dtypes)"
      ],
      "metadata": {
        "colab": {
          "base_uri": "https://localhost:8080/"
        },
        "id": "coZ6x_TRqi69",
        "outputId": "2970795b-4397-4410-e8a2-d797ff9d9715"
      },
      "execution_count": 21,
      "outputs": [
        {
          "output_type": "stream",
          "name": "stdout",
          "text": [
            "region         object\n",
            "category       object\n",
            "parameter      object\n",
            "mode           object\n",
            "powertrain     object\n",
            "year            int64\n",
            "unit           object\n",
            "value         float64\n",
            "dtype: object\n"
          ]
        }
      ]
    },
    {
      "cell_type": "code",
      "source": [
        "X=df[['region','category','parameter','mode','powertrain','year']]\n",
        "Y=df['value']\n",
        "\n",
        "from sklearn.compose import ColumnTransformer\n",
        "from sklearn.preprocessing import OneHotEncoder\n",
        "ct=ColumnTransformer(transformers=[('encoder',OneHotEncoder(),[0,1,2,3,4])],remainder='passthrough')\n",
        "X=ct.fit_transform(X)\n",
        "X=X.toarray()\n",
        "print(X)\n",
        "\n",
        "from sklearn.model_selection import train_test_split\n",
        "Xtrain,Xtest,Ytrain,Ytest=train_test_split(X,Y,test_size=0.2,random_state=42)\n",
        "print(Xtrain)\n"
      ],
      "metadata": {
        "colab": {
          "base_uri": "https://localhost:8080/"
        },
        "id": "5iaQmMnsoZfw",
        "outputId": "3daa1764-585c-425b-ae05-3e3adfdc014b"
      },
      "execution_count": 22,
      "outputs": [
        {
          "output_type": "stream",
          "name": "stdout",
          "text": [
            "[[1.000e+00 0.000e+00 0.000e+00 ... 0.000e+00 0.000e+00 2.011e+03]\n",
            " [1.000e+00 0.000e+00 0.000e+00 ... 0.000e+00 0.000e+00 2.011e+03]\n",
            " [1.000e+00 0.000e+00 0.000e+00 ... 0.000e+00 0.000e+00 2.011e+03]\n",
            " ...\n",
            " [0.000e+00 0.000e+00 0.000e+00 ... 1.000e+00 0.000e+00 2.023e+03]\n",
            " [0.000e+00 0.000e+00 0.000e+00 ... 0.000e+00 0.000e+00 2.023e+03]\n",
            " [0.000e+00 0.000e+00 0.000e+00 ... 0.000e+00 0.000e+00 2.023e+03]]\n",
            "[[0.000e+00 0.000e+00 0.000e+00 ... 0.000e+00 0.000e+00 2.023e+03]\n",
            " [0.000e+00 0.000e+00 1.000e+00 ... 0.000e+00 1.000e+00 2.012e+03]\n",
            " [0.000e+00 0.000e+00 0.000e+00 ... 0.000e+00 0.000e+00 2.018e+03]\n",
            " ...\n",
            " [0.000e+00 0.000e+00 0.000e+00 ... 0.000e+00 1.000e+00 2.013e+03]\n",
            " [0.000e+00 0.000e+00 0.000e+00 ... 0.000e+00 0.000e+00 2.015e+03]\n",
            " [0.000e+00 0.000e+00 0.000e+00 ... 0.000e+00 0.000e+00 2.010e+03]]\n"
          ]
        }
      ]
    },
    {
      "cell_type": "code",
      "source": [
        "from sklearn.preprocessing import StandardScaler\n",
        "sc=StandardScaler()\n",
        "Xtrain=sc.fit_transform(Xtrain)\n",
        "Xtest=sc.transform(Xtest)\n",
        "print(Xtrain)\n",
        "\n"
      ],
      "metadata": {
        "colab": {
          "base_uri": "https://localhost:8080/"
        },
        "id": "Xims-y7Izjgu",
        "outputId": "c822ade1-c4e6-460e-b734-e2b899fa78b8"
      },
      "execution_count": 23,
      "outputs": [
        {
          "output_type": "stream",
          "name": "stdout",
          "text": [
            "[[-0.15063124 -0.15883155 -0.16666667 ... -0.43339292 -0.49381524\n",
            "   1.60022497]\n",
            " [-0.15063124 -0.15883155  6.         ... -0.43339292  2.0250489\n",
            "  -1.28636197]\n",
            " [-0.15063124 -0.15883155 -0.16666667 ... -0.43339292 -0.49381524\n",
            "   0.28814   ]\n",
            " ...\n",
            " [-0.15063124 -0.15883155 -0.16666667 ... -0.43339292  2.0250489\n",
            "  -1.02394497]\n",
            " [-0.15063124 -0.15883155 -0.16666667 ... -0.43339292 -0.49381524\n",
            "  -0.49911098]\n",
            " [-0.15063124 -0.15883155 -0.16666667 ... -0.43339292 -0.49381524\n",
            "  -1.81119596]]\n"
          ]
        }
      ]
    },
    {
      "cell_type": "code",
      "source": [
        "from sklearn.ensemble import RandomForestRegressor\n",
        "from sklearn.metrics import r2_score,confusion_matrix\n",
        "rg=RandomForestRegressor(n_estimators=1000,random_state=42)\n",
        "rg.fit(Xtrain,Ytrain)\n",
        "ypred=rg.predict(Xtest)\n",
        "print(r2_score(Ytest,ypred))"
      ],
      "metadata": {
        "colab": {
          "base_uri": "https://localhost:8080/"
        },
        "id": "4RWtEhHtIOc3",
        "outputId": "9d367dd9-677f-4af4-de09-b148f7276ed1"
      },
      "execution_count": 24,
      "outputs": [
        {
          "output_type": "stream",
          "name": "stdout",
          "text": [
            "0.7096608953456072\n"
          ]
        }
      ]
    },
    {
      "cell_type": "code",
      "source": [
        "from xgboost import XGBRegressor\n",
        "xgbr=XGBRegressor()\n",
        "xgbr.fit(Xtrain,Ytrain)\n",
        "ypred=xgbr.predict(Xtest)\n",
        "print(r2_score(Ytest,ypred))\n"
      ],
      "metadata": {
        "colab": {
          "base_uri": "https://localhost:8080/"
        },
        "id": "zIh5mpanQlZf",
        "outputId": "c89c3bfe-a329-4da1-8ac8-3d488da14833"
      },
      "execution_count": 25,
      "outputs": [
        {
          "output_type": "stream",
          "name": "stdout",
          "text": [
            "0.7832767812896024\n"
          ]
        }
      ]
    }
  ]
}